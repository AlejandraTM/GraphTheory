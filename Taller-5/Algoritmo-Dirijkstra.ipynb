{
 "cells": [
  {
   "cell_type": "code",
   "execution_count": 1,
   "metadata": {},
   "outputs": [],
   "source": [
    "import networkx as nx\n",
    "import matplotlib.pyplot as plt"
   ]
  },
  {
   "cell_type": "code",
   "execution_count": 2,
   "metadata": {},
   "outputs": [],
   "source": [
    "G=nx.MultiDiGraph()\n",
    "node1=(\"A\",\"B\",\"C\",\"D\",\"E\")\n",
    "G.add_nodes_from(node1)\n",
    "distances=[(\"A\",\"B\",7),(\"A\",\"C\",3),(\"B\",\"D\",8),(\"C\",\"D\",8),(\"B\",\"A\",1),(\"A\",\"E\",10),(\"E\",\"C\",4)]\n",
    "G.add_weighted_edges_from(distances)"
   ]
  },
  {
   "cell_type": "markdown",
   "metadata": {},
   "source": [
    "### Algoritmo de Dirijkstra"
   ]
  },
  {
   "cell_type": "code",
   "execution_count": 3,
   "metadata": {},
   "outputs": [
    {
     "name": "stdout",
     "output_type": "stream",
     "text": [
      "Grafo\n"
     ]
    },
    {
     "data": {
      "image/png": "[encoded data removed]",
      "text/plain": [
       "<Figure size 432x288 with 1 Axes>"
      ]
     },
     "metadata": {},
     "output_type": "display_data"
    }
   ],
   "source": [
    "print(\"Grafo\")\n",
    "\n",
    "##No permite graficar con Multidigraph\n",
    "\n",
    "G1=nx.DiGraph()\n",
    "node1=(\"A\",\"B\",\"C\",\"D\",\"E\")\n",
    "G1.add_nodes_from(node1)\n",
    "distances=[(\"A\",\"B\",7),(\"A\",\"C\",3),(\"B\",\"D\",8),(\"C\",\"D\",8),(\"B\",\"A\",1),(\"A\",\"E\",10),(\"E\",\"C\",4)]\n",
    "G1.add_weighted_edges_from(distances)\n",
    "\n",
    "## Plot\n",
    "pos=nx.spectral_layout(G1) \n",
    "nx.draw(G1, pos, with_labels=True, font_size=10,font_weight='bold',node_size=800,width=2,connectionstyle='arc3, rad = 0.3')\n",
    "arc_weight=nx.get_edge_attributes(G1,'weight')\n",
    "nx.draw_networkx_edge_labels(G1, pos,  edge_labels=arc_weight,label_pos=0.4)\n",
    "plt.show()"
   ]
  },
  {
   "cell_type": "code",
   "execution_count": 20,
   "metadata": {},
   "outputs": [
    {
     "name": "stdout",
     "output_type": "stream",
     "text": [
      "Lista de vértices\n",
      "('A', 'B', 'C', 'D', 'E')\n",
      "\n",
      "Ingrese el vértice por el cual quiere iniciar\n",
      "D\n"
     ]
    }
   ],
   "source": [
    "print(\"Lista de vértices\")\n",
    "print(node1)\n",
    "print()\n",
    "print(\"Ingrese el vértice por el cual quiere iniciar\")\n",
    "first=input()"
   ]
  },
  {
   "cell_type": "code",
   "execution_count": 21,
   "metadata": {},
   "outputs": [
    {
     "name": "stdout",
     "output_type": "stream",
     "text": [
      "{'A': inf, 'B': inf, 'C': inf, 'D': 0, 'E': inf} {'A': None, 'B': None, 'C': None, 'D': 'D', 'E': None}\n",
      "{'A': 1, 'B': 7, 'C': 3, 'D': 0, 'E': 10} {'A': 'A', 'B': 'A', 'C': 'A', 'D': 'D', 'E': 'A'}\n",
      "{'A': 1, 'B': 7, 'C': 3, 'D': 0, 'E': 10} {'A': 'A', 'B': 'A', 'C': 'A', 'D': 'D', 'E': 'A'}\n",
      "{'A': 1, 'B': 7, 'C': 3, 'D': 0, 'E': 10} {'A': 'A', 'B': 'A', 'C': 'A', 'D': 'D', 'E': 'A'}\n",
      "\n",
      "Lista de pesos desde D\n",
      "{'A': 1, 'B': 7, 'C': 3, 'D': 0, 'E': 10}\n",
      "\n",
      "Recorridos iniciando en D\n",
      "{'A': 'A', 'B': 'A', 'C': 'A', 'D': 'D', 'E': 'A'}\n"
     ]
    }
   ],
   "source": [
    "#Inicialización\n",
    "first2=first\n",
    "dist={node:float('inf') for node in node1}#Diccionario de datos (Almacena distancias a first)\n",
    "unv={node:float('inf') for node in node1}#Nodos que no he visitado\n",
    "prev={node:None for node in node1}#Los nodos por los que ya pasó\n",
    "cd=0\n",
    "dist[first]=cd\n",
    "prev[first]=first\n",
    "while True:\n",
    "    for n in distances:\n",
    "        if (n[0]==first) and (dist[n[1]]>n[2]+cd):\n",
    "            dist[n[1]]=n[2]+cd\n",
    "            unv[n[1]]=n[2]+cd\n",
    "            prev[n[1]]=first\n",
    "        if (n[1]==first) and (dist[n[1]]>n[2]+cd):\n",
    "            dist[n[1]]=n[2]+cd\n",
    "            unv[n[1]]=n[2]+cd\n",
    "            prev[n[1]]=first\n",
    "    unv.pop(first)\n",
    "    if not unv:break\n",
    "    print(dist,prev)\n",
    "    first,dc=sorted(unv.items(),key=lambda x:x[1])[0]\n",
    "print()\n",
    "print(\"Lista de pesos desde \"+first2)\n",
    "print(dist)\n",
    "print()\n",
    "print(\"Recorridos iniciando en \"+first2)\n",
    "print(prev)"
   ]
  },
  {
   "cell_type": "markdown",
   "metadata": {},
   "source": [
    "### Algoritmo de Floyd- Warshall"
   ]
  },
  {
   "cell_type": "code",
   "execution_count": 41,
   "metadata": {},
   "outputs": [],
   "source": [
    "#Creo la matriz de adyacencia con valor infinito para toda entreda mij con i distinto de j\n",
    "M=[[float('inf') if i!=j else 0 for i in range(0,len(node1))] for j in range(0,len(node1))]\n",
    "\n",
    "#Genero la matriz de adyacencia del grafo\n",
    "for e in distances:\n",
    "    M[node1.index(e[0])][node1.index(e[1])]=e[2]"
   ]
  },
  {
   "cell_type": "code",
   "execution_count": 42,
   "metadata": {},
   "outputs": [
    {
     "data": {
      "text/plain": [
       "[[0, 7, 3, inf, 10],\n",
       " [1, 0, inf, 8, inf],\n",
       " [inf, inf, 0, 8, inf],\n",
       " [inf, inf, inf, 0, inf],\n",
       " [inf, inf, 4, inf, 0]]"
      ]
     },
     "execution_count": 42,
     "metadata": {},
     "output_type": "execute_result"
    }
   ],
   "source": [
    "M"
   ]
  },
  {
   "cell_type": "code",
   "execution_count": 44,
   "metadata": {},
   "outputs": [],
   "source": [
    "#Implementación del método trabajando solo con los indices de cada elementos en las tuplas de nodos y distancias\n",
    "for i in range(0,len(node1)):\n",
    "    for j in range(0,len(node1)):\n",
    "        for m in range(0,len(node1)):\n",
    "            if (i!=j):#Verifica que no esté en la diagonal\n",
    "                if (m!=j or m!=i):#Verifica que no tome elementos en la diagonal\n",
    "                    if M[i][j]>M[i][m]+M[m][j]: \n",
    "                        #Si el valor en la posición ij es mayor que la suma de las posiciones \n",
    "                        # im y mj donde m representa el vértice intermedio del recorrido\n",
    "                        # entonces ese se convierte en el nuevo valor de la entrada ij\n",
    "                        M[i][j]=M[i][m]+M[m][j]"
   ]
  },
  {
   "cell_type": "code",
   "execution_count": 45,
   "metadata": {},
   "outputs": [
    {
     "name": "stdout",
     "output_type": "stream",
     "text": [
      "La distancia de A a A es: 0\n",
      "La distancia de A a B es: 7\n",
      "La distancia de A a C es: 3\n",
      "La distancia de A a D es: 11\n",
      "La distancia de A a E es: 10\n",
      "La distancia de B a A es: 1\n",
      "La distancia de B a B es: 0\n",
      "La distancia de B a C es: 4\n",
      "La distancia de B a D es: 8\n",
      "La distancia de B a E es: 11\n",
      "La distancia de C a A es: inf\n",
      "La distancia de C a B es: inf\n",
      "La distancia de C a C es: 0\n",
      "La distancia de C a D es: 8\n",
      "La distancia de C a E es: inf\n",
      "La distancia de D a A es: inf\n",
      "La distancia de D a B es: inf\n",
      "La distancia de D a C es: inf\n",
      "La distancia de D a D es: 0\n",
      "La distancia de D a E es: inf\n",
      "La distancia de E a A es: inf\n",
      "La distancia de E a B es: inf\n",
      "La distancia de E a C es: 4\n",
      "La distancia de E a D es: 12\n",
      "La distancia de E a E es: 0\n"
     ]
    }
   ],
   "source": [
    "#Impresión de resultados\n",
    "for i in range(0,len(node1)):\n",
    "    for j in range(0,len(node1)):\n",
    "        print(\"La distancia de \"+str(node1[i])+\" a \"+str(node1[j])+ \" es: \"+str(M[i][j]))"
   ]
  }
 ],
 "metadata": {
  "kernelspec": {
   "display_name": "Python 3",
   "language": "python",
   "name": "python3"
  },
  "language_info": {
   "codemirror_mode": {
    "name": "ipython",
    "version": 3
   },
   "file_extension": ".py",
   "mimetype": "text/x-python",
   "name": "python",
   "nbconvert_exporter": "python",
   "pygments_lexer": "ipython3",
   "version": "3.8.5"
  }
 },
 "nbformat": 4,
 "nbformat_minor": 4
}
